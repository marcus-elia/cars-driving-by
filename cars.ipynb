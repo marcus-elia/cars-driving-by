{
 "cells": [
  {
   "cell_type": "markdown",
   "metadata": {},
   "source": [
    "# Cars\n",
    "This notebook is designed to allowed me to type in the model name of cars as I see them drive by. I had tried using paper, but it was way too slow. The intent here is to allow me to just type in the model name, press enter, and immediately be able to enter another. These will be stored in a JSON text file."
   ]
  },
  {
   "cell_type": "code",
   "execution_count": 6,
   "metadata": {
    "collapsed": true
   },
   "outputs": [],
   "source": [
    "import json\n",
    "import matplotlib.pyplot as plt\n",
    "import math\n",
    "import pandas as pd\n",
    "from IPython.display import display"
   ]
  },
  {
   "cell_type": "code",
   "execution_count": 2,
   "metadata": {},
   "outputs": [],
   "source": [
    "def input_cars(filename):\n",
    "    # read in the previous data to a dict\n",
    "    f = open(filename, 'r')\n",
    "    model2count = json.loads(f.read())\n",
    "    f.close()\n",
    "    # let the user enter cars\n",
    "    s = \"\"\n",
    "    end_words = [\"end\", \"done\", \"stop\", \"finished\", \"finish\"]\n",
    "    while not s in end_words:\n",
    "        s = input(\"Enter car model:\")\n",
    "        if not s in end_words:\n",
    "            try:\n",
    "                model2count[s] += 1\n",
    "            except KeyError:\n",
    "                model2count[s] = 1\n",
    "                \n",
    "    # put the dict in the text file\n",
    "    f = open(filename, 'w')\n",
    "    f.write(json.dumps(model2count))\n",
    "    f.close()"
   ]
  },
  {
   "cell_type": "markdown",
   "metadata": {},
   "source": [
    "### Run the next cell to enter cars"
   ]
  },
  {
   "cell_type": "code",
   "execution_count": null,
   "metadata": {
    "collapsed": true
   },
   "outputs": [],
   "source": [
    "input_cars(\"cars.txt\")"
   ]
  },
  {
   "cell_type": "code",
   "execution_count": 11,
   "metadata": {
    "collapsed": true
   },
   "outputs": [],
   "source": [
    "def read_data_to_pandas(filename=\"cars.txt\"):\n",
    "    f = open(filename, 'r')\n",
    "    model2frequency = json.loads(f.read())\n",
    "    f.close()\n",
    "    return pd.DataFrame({x : [model2frequency[x]] for x in model2frequency})"
   ]
  },
  {
   "cell_type": "code",
   "execution_count": 29,
   "metadata": {},
   "outputs": [],
   "source": [
    "def print_sorted(filename=\"cars.txt\"):\n",
    "    f = open(filename, 'r')\n",
    "    model2frequency = json.loads(f.read())\n",
    "    f.close()\n",
    "    L = []\n",
    "    for model in model2frequency:\n",
    "        L.append((model, model2frequency[model]))\n",
    "    L.sort(key = lambda x: x[1])\n",
    "    print(L)"
   ]
  },
  {
   "cell_type": "code",
   "execution_count": 30,
   "metadata": {},
   "outputs": [
    {
     "name": "stdout",
     "output_type": "stream",
     "text": [
      "[('a3', 1), ('town and county', 1), ('tacoma wrx', 1), ('rdx', 1), ('fiesta', 1), ('colorra', 1), ('vue', 1), ('malibu', 1), ('mountaineer', 1), ('golf', 1), ('frontier', 1), ('prizm', 1), ('element', 1), ('mustang', 1), ('fj cruiser', 1), ('911', 1), ('accent', 1), ('gl-class', 1), ('model 3', 1), ('lx 470', 1), ('outlander sport', 1), ('sequoia', 1), ('telluride', 1), ('forster', 1), ('q3', 1), ('preius', 1), ('q6', 1), ('juke', 1), ('ecosport', 1), ('expedition', 1), ('gti', 1), ('g6', 1), ('xterra', 1), ('tc', 1), ('trax', 1), ('corvette', 1), ('ranger', 1), ('mariner', 1), ('vibe', 1), ('venza', 1), ('sonic', 1), ('ran', 1), ('sedona', 1), ('santa fe', 1), ('hhr', 1), ('journey', 1), ('charger', 1), ('lucerne', 1), ('encore', 1), ('rocus', 1), ('yukon', 1), ('xb', 1), ('eclipse cross', 1), ('subruban', 1), ('sx4', 1), ('cruze', 2), ('matrix', 2), ('patriot', 2), ('suburban', 2), ('s40', 2), ('rx 350', 2), ('dakota', 2), ('mdx', 2), ('wrx', 2), ('edge', 2), ('pacifica', 2), ('volt', 2), ('altima', 2), ('hrv', 2), ('renegade', 2), ('ascent', 2), ('q5', 2), ('beetle', 2), ('atlas', 2), ('century', 2), ('town and country', 2), ('kona', 2), ('camaro', 2), ('cx-9', 2), ('impala', 2), ('sonata', 2), ('300', 2), ('tiguan', 3), ('legacy', 3), ('outlander', 3), ('enclave', 3), ('pathfinder', 3), ('x3', 3), ('3-series', 3), ('terrain', 3), ('dart', 3), ('x5', 3), ('durango', 3), ('cooper', 3), ('sportage', 3), ('sorento', 3), ('xc-70', 3), ('', 3), ('sentra', 4), ('elantra', 4), ('explorer', 4), ('grand cherokee', 4), ('tahoe', 4), ('ridgeline', 4), ('versa', 4), ('yaris', 4), ('grand caravan', 5), ('sienna', 5), ('acadia', 5), ('compass', 6), ('3', 6), ('6', 6), ('cx-5', 6), ('fusion', 7), ('a4', 7), ('pilot', 7), ('odyssey', 7), ('wrangler', 8), ('cherokee', 8), ('soul', 8), ('focus', 9), ('4runner', 9), ('fit', 9), ('tundra', 9), ('sierra', 9), ('camry', 11), ('escape', 13), ('ram', 13), ('rogue', 15), ('highlander', 15), ('prius', 16), ('equinox', 16), ('accord', 17), ('tacoma', 17), ('passat', 18), ('outback', 19), ('civic', 20), ('crosstrek', 20), ('impreza', 20), ('corolla', 21), ('forester', 24), ('f150', 26), ('rav4', 29), ('silverado', 32), ('crv', 38)]\n"
     ]
    }
   ],
   "source": [
    "print_sorted()"
   ]
  },
  {
   "cell_type": "code",
   "execution_count": null,
   "metadata": {
    "collapsed": true
   },
   "outputs": [],
   "source": []
  }
 ],
 "metadata": {
  "kernelspec": {
   "display_name": "Python 3",
   "language": "python",
   "name": "python3"
  },
  "language_info": {
   "codemirror_mode": {
    "name": "ipython",
    "version": 3
   },
   "file_extension": ".py",
   "mimetype": "text/x-python",
   "name": "python",
   "nbconvert_exporter": "python",
   "pygments_lexer": "ipython3",
   "version": "3.6.1"
  }
 },
 "nbformat": 4,
 "nbformat_minor": 2
}
